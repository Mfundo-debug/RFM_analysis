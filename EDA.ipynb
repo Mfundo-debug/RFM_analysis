{
 "cells": [
  {
   "cell_type": "markdown",
   "metadata": {},
   "source": [
    "### Introduction\n",
    "RFM analysis is a powerful technique used by companies to better understand customer behaviour and optimize engagement strategies. It revolves around three key dimensions: recency, frequency, and monetary value. These dimensions capture essential aspects of customer transactions, providing valuable information for segmentation and personalized marketing campaigns.\n",
    "\n",
    "The given dataset is provided by an e-commerce platform containing customer transaction data including customer ID, purchase date, transaction amount, product information, ID command and location. The platform aims to leverage RFM (recency, frequency, monetary value) analysis to segment customers and optimize customer engagement strategies.\n",
    "\n",
    "####  Task\n",
    "\n",
    "-   [x] Perform RFM analysis on the given dataset and segment customers into different groups based on their RFM scores.\n",
    "-   [x] Provide a detailed analysis of the customer segments and actionable insights for the platform to optimize customer engagement strategies.\n",
    "-   [x] The analysis should provide insights into cusotmer behavior and identification of high-value customers, at-risk customers, and potential opportunities for personalized marketing campaigns."
   ]
  },
  {
   "cell_type": "code",
   "execution_count": 1,
   "metadata": {},
   "outputs": [],
   "source": [
    "#load necessary libs\n",
    "import pandas as pd\n",
    "import numpy as np\n",
    "import matplotlib.pyplot as plt\n",
    "import seaborn as sns\n",
    "import os\n",
    "import warnings\n",
    "warnings.filterwarnings('ignore')\n",
    "%matplotlib inline\n",
    "sns.set_style('darkgrid')"
   ]
  },
  {
   "cell_type": "code",
   "execution_count": 2,
   "metadata": {},
   "outputs": [
    {
     "data": {
      "text/html": [
       "<div>\n",
       "<style scoped>\n",
       "    .dataframe tbody tr th:only-of-type {\n",
       "        vertical-align: middle;\n",
       "    }\n",
       "\n",
       "    .dataframe tbody tr th {\n",
       "        vertical-align: top;\n",
       "    }\n",
       "\n",
       "    .dataframe thead th {\n",
       "        text-align: right;\n",
       "    }\n",
       "</style>\n",
       "<table border=\"1\" class=\"dataframe\">\n",
       "  <thead>\n",
       "    <tr style=\"text-align: right;\">\n",
       "      <th></th>\n",
       "      <th>CustomerID</th>\n",
       "      <th>PurchaseDate</th>\n",
       "      <th>TransactionAmount</th>\n",
       "      <th>ProductInformation</th>\n",
       "      <th>OrderID</th>\n",
       "      <th>Location</th>\n",
       "    </tr>\n",
       "  </thead>\n",
       "  <tbody>\n",
       "    <tr>\n",
       "      <th>0</th>\n",
       "      <td>8814</td>\n",
       "      <td>2023-04-11</td>\n",
       "      <td>943.31</td>\n",
       "      <td>Product C</td>\n",
       "      <td>890075</td>\n",
       "      <td>Tokyo</td>\n",
       "    </tr>\n",
       "    <tr>\n",
       "      <th>1</th>\n",
       "      <td>2188</td>\n",
       "      <td>2023-04-11</td>\n",
       "      <td>463.70</td>\n",
       "      <td>Product A</td>\n",
       "      <td>176819</td>\n",
       "      <td>London</td>\n",
       "    </tr>\n",
       "    <tr>\n",
       "      <th>2</th>\n",
       "      <td>4608</td>\n",
       "      <td>2023-04-11</td>\n",
       "      <td>80.28</td>\n",
       "      <td>Product A</td>\n",
       "      <td>340062</td>\n",
       "      <td>New York</td>\n",
       "    </tr>\n",
       "    <tr>\n",
       "      <th>3</th>\n",
       "      <td>2559</td>\n",
       "      <td>2023-04-11</td>\n",
       "      <td>221.29</td>\n",
       "      <td>Product A</td>\n",
       "      <td>239145</td>\n",
       "      <td>London</td>\n",
       "    </tr>\n",
       "    <tr>\n",
       "      <th>4</th>\n",
       "      <td>9482</td>\n",
       "      <td>2023-04-11</td>\n",
       "      <td>739.56</td>\n",
       "      <td>Product A</td>\n",
       "      <td>194545</td>\n",
       "      <td>Paris</td>\n",
       "    </tr>\n",
       "  </tbody>\n",
       "</table>\n",
       "</div>"
      ],
      "text/plain": [
       "   CustomerID PurchaseDate  TransactionAmount ProductInformation  OrderID  \\\n",
       "0        8814   2023-04-11             943.31          Product C   890075   \n",
       "1        2188   2023-04-11             463.70          Product A   176819   \n",
       "2        4608   2023-04-11              80.28          Product A   340062   \n",
       "3        2559   2023-04-11             221.29          Product A   239145   \n",
       "4        9482   2023-04-11             739.56          Product A   194545   \n",
       "\n",
       "   Location  \n",
       "0     Tokyo  \n",
       "1    London  \n",
       "2  New York  \n",
       "3    London  \n",
       "4     Paris  "
      ]
     },
     "execution_count": 2,
     "metadata": {},
     "output_type": "execute_result"
    }
   ],
   "source": [
    "data= pd.read_csv('rfm_data.csv')\n",
    "data.head()"
   ]
  },
  {
   "cell_type": "code",
   "execution_count": 3,
   "metadata": {},
   "outputs": [
    {
     "name": "stdout",
     "output_type": "stream",
     "text": [
      "Dataframe shape:  (1000, 6)\n",
      "Number of null values:  0\n",
      "Number of duplicated values:  0\n",
      "Number of unique values:  CustomerID             946\n",
      "PurchaseDate            61\n",
      "TransactionAmount      997\n",
      "ProductInformation       4\n",
      "OrderID               1000\n",
      "Location                 4\n",
      "dtype: int64\n",
      "<class 'pandas.core.frame.DataFrame'>\n",
      "RangeIndex: 1000 entries, 0 to 999\n",
      "Data columns (total 6 columns):\n",
      " #   Column              Non-Null Count  Dtype  \n",
      "---  ------              --------------  -----  \n",
      " 0   CustomerID          1000 non-null   int64  \n",
      " 1   PurchaseDate        1000 non-null   object \n",
      " 2   TransactionAmount   1000 non-null   float64\n",
      " 3   ProductInformation  1000 non-null   object \n",
      " 4   OrderID             1000 non-null   int64  \n",
      " 5   Location            1000 non-null   object \n",
      "dtypes: float64(1), int64(2), object(3)\n",
      "memory usage: 47.0+ KB\n",
      "Dataframe info:  None\n",
      "Dataframe describe:          CustomerID  TransactionAmount        OrderID\n",
      "count  1000.000000         1000.00000    1000.000000\n",
      "mean   5554.789000          513.67781  554071.398000\n",
      "std    2605.014863          286.09870  264695.448814\n",
      "min    1011.000000           12.13000  100096.000000\n",
      "25%    3273.000000          257.12000  313152.000000\n",
      "50%    5538.000000          523.56500  564671.500000\n",
      "75%    7821.750000          759.86000  783052.250000\n",
      "max    9991.000000          999.44000  999695.000000\n",
      "Dataframe columns:  Index(['CustomerID', 'PurchaseDate', 'TransactionAmount', 'ProductInformation',\n",
      "       'OrderID', 'Location'],\n",
      "      dtype='object')\n",
      "Dataframe head:     CustomerID PurchaseDate  TransactionAmount ProductInformation  OrderID  \\\n",
      "0        8814   2023-04-11             943.31          Product C   890075   \n",
      "1        2188   2023-04-11             463.70          Product A   176819   \n",
      "2        4608   2023-04-11              80.28          Product A   340062   \n",
      "3        2559   2023-04-11             221.29          Product A   239145   \n",
      "4        9482   2023-04-11             739.56          Product A   194545   \n",
      "\n",
      "   Location  \n",
      "0     Tokyo  \n",
      "1    London  \n",
      "2  New York  \n",
      "3    London  \n",
      "4     Paris  \n"
     ]
    }
   ],
   "source": [
    "\n",
    "def info(data):\n",
    "    print('Dataframe shape: ', data.shape)\n",
    "    print('Number of null values: ', data.isnull().sum().sum())\n",
    "    print('Number of duplicated values: ', data.duplicated().sum())\n",
    "    print('Number of unique values: ', data.nunique())\n",
    "    print('Dataframe info: ', data.info())\n",
    "    print('Dataframe describe: ', data.describe())\n",
    "    print('Dataframe columns: ', data.columns)\n",
    "    print('Dataframe head: ', data.head())\n",
    "info(data)"
   ]
  },
  {
   "cell_type": "code",
   "execution_count": 4,
   "metadata": {},
   "outputs": [],
   "source": [
    "from datetime import datetime\n",
    "#convert 'PurchaseDate' to datetime\n",
    "data['PurchaseDate'] = pd.to_datetime(data['PurchaseDate'])\n",
    "#calculate Recency\n",
    "data['Recency'] = (pd.Timestamp.now().normalize() - data['PurchaseDate'].dt.normalize()).dt.days\n",
    "#calculate Frequency\n",
    "frequency = data.groupby('CustomerID')['OrderID'].count().reset_index()\n",
    "frequency.rename(columns={'OrderID':'Frequency'}, inplace=True)\n",
    "data = data.merge(frequency, on='CustomerID', how='left')\n",
    "\n",
    "#calculate Monetary\n",
    "monetary = data.groupby('CustomerID')['TransactionAmount'].sum().reset_index()\n",
    "monetary.rename(columns={'TransactionAmount':'Monetary'}, inplace=True)\n",
    "data = data.merge(monetary, on='CustomerID', how='left')"
   ]
  },
  {
   "cell_type": "code",
   "execution_count": 5,
   "metadata": {},
   "outputs": [
    {
     "name": "stdout",
     "output_type": "stream",
     "text": [
      "datetime64[ns]\n",
      "0   2023-04-11\n",
      "1   2023-04-11\n",
      "2   2023-04-11\n",
      "3   2023-04-11\n",
      "4   2023-04-11\n",
      "Name: PurchaseDate, dtype: datetime64[ns]\n"
     ]
    }
   ],
   "source": [
    "#explore PurchaseDate and its dtype and display the first 5 rows\n",
    "print(data['PurchaseDate'].dtype)\n",
    "print(data['PurchaseDate'].head())\n"
   ]
  },
  {
   "cell_type": "code",
   "execution_count": 6,
   "metadata": {},
   "outputs": [
    {
     "data": {
      "text/html": [
       "<div>\n",
       "<style scoped>\n",
       "    .dataframe tbody tr th:only-of-type {\n",
       "        vertical-align: middle;\n",
       "    }\n",
       "\n",
       "    .dataframe tbody tr th {\n",
       "        vertical-align: top;\n",
       "    }\n",
       "\n",
       "    .dataframe thead th {\n",
       "        text-align: right;\n",
       "    }\n",
       "</style>\n",
       "<table border=\"1\" class=\"dataframe\">\n",
       "  <thead>\n",
       "    <tr style=\"text-align: right;\">\n",
       "      <th></th>\n",
       "      <th>CustomerID</th>\n",
       "      <th>PurchaseDate</th>\n",
       "      <th>TransactionAmount</th>\n",
       "      <th>ProductInformation</th>\n",
       "      <th>OrderID</th>\n",
       "      <th>Location</th>\n",
       "      <th>Recency</th>\n",
       "      <th>Frequency</th>\n",
       "      <th>Monetary</th>\n",
       "    </tr>\n",
       "  </thead>\n",
       "  <tbody>\n",
       "    <tr>\n",
       "      <th>0</th>\n",
       "      <td>8814</td>\n",
       "      <td>2023-04-11</td>\n",
       "      <td>943.31</td>\n",
       "      <td>Product C</td>\n",
       "      <td>890075</td>\n",
       "      <td>Tokyo</td>\n",
       "      <td>97</td>\n",
       "      <td>1</td>\n",
       "      <td>943.31</td>\n",
       "    </tr>\n",
       "    <tr>\n",
       "      <th>1</th>\n",
       "      <td>2188</td>\n",
       "      <td>2023-04-11</td>\n",
       "      <td>463.70</td>\n",
       "      <td>Product A</td>\n",
       "      <td>176819</td>\n",
       "      <td>London</td>\n",
       "      <td>97</td>\n",
       "      <td>1</td>\n",
       "      <td>463.70</td>\n",
       "    </tr>\n",
       "    <tr>\n",
       "      <th>2</th>\n",
       "      <td>4608</td>\n",
       "      <td>2023-04-11</td>\n",
       "      <td>80.28</td>\n",
       "      <td>Product A</td>\n",
       "      <td>340062</td>\n",
       "      <td>New York</td>\n",
       "      <td>97</td>\n",
       "      <td>1</td>\n",
       "      <td>80.28</td>\n",
       "    </tr>\n",
       "    <tr>\n",
       "      <th>3</th>\n",
       "      <td>2559</td>\n",
       "      <td>2023-04-11</td>\n",
       "      <td>221.29</td>\n",
       "      <td>Product A</td>\n",
       "      <td>239145</td>\n",
       "      <td>London</td>\n",
       "      <td>97</td>\n",
       "      <td>1</td>\n",
       "      <td>221.29</td>\n",
       "    </tr>\n",
       "    <tr>\n",
       "      <th>4</th>\n",
       "      <td>9482</td>\n",
       "      <td>2023-04-11</td>\n",
       "      <td>739.56</td>\n",
       "      <td>Product A</td>\n",
       "      <td>194545</td>\n",
       "      <td>Paris</td>\n",
       "      <td>97</td>\n",
       "      <td>1</td>\n",
       "      <td>739.56</td>\n",
       "    </tr>\n",
       "  </tbody>\n",
       "</table>\n",
       "</div>"
      ],
      "text/plain": [
       "   CustomerID PurchaseDate  TransactionAmount ProductInformation  OrderID  \\\n",
       "0        8814   2023-04-11             943.31          Product C   890075   \n",
       "1        2188   2023-04-11             463.70          Product A   176819   \n",
       "2        4608   2023-04-11              80.28          Product A   340062   \n",
       "3        2559   2023-04-11             221.29          Product A   239145   \n",
       "4        9482   2023-04-11             739.56          Product A   194545   \n",
       "\n",
       "   Location  Recency  Frequency  Monetary  \n",
       "0     Tokyo       97          1    943.31  \n",
       "1    London       97          1    463.70  \n",
       "2  New York       97          1     80.28  \n",
       "3    London       97          1    221.29  \n",
       "4     Paris       97          1    739.56  "
      ]
     },
     "execution_count": 6,
     "metadata": {},
     "output_type": "execute_result"
    }
   ],
   "source": [
    "data.head()"
   ]
  },
  {
   "cell_type": "code",
   "execution_count": 7,
   "metadata": {},
   "outputs": [
    {
     "data": {
      "text/html": [
       "<div>\n",
       "<style scoped>\n",
       "    .dataframe tbody tr th:only-of-type {\n",
       "        vertical-align: middle;\n",
       "    }\n",
       "\n",
       "    .dataframe tbody tr th {\n",
       "        vertical-align: top;\n",
       "    }\n",
       "\n",
       "    .dataframe thead th {\n",
       "        text-align: right;\n",
       "    }\n",
       "</style>\n",
       "<table border=\"1\" class=\"dataframe\">\n",
       "  <thead>\n",
       "    <tr style=\"text-align: right;\">\n",
       "      <th></th>\n",
       "      <th>CustomerID</th>\n",
       "      <th>PurchaseDate</th>\n",
       "      <th>TransactionAmount</th>\n",
       "      <th>ProductInformation</th>\n",
       "      <th>OrderID</th>\n",
       "      <th>Location</th>\n",
       "      <th>Recency</th>\n",
       "      <th>Frequency</th>\n",
       "      <th>Monetary</th>\n",
       "      <th>R</th>\n",
       "      <th>F</th>\n",
       "      <th>M</th>\n",
       "      <th>RFM Score</th>\n",
       "    </tr>\n",
       "  </thead>\n",
       "  <tbody>\n",
       "    <tr>\n",
       "      <th>0</th>\n",
       "      <td>8814</td>\n",
       "      <td>2023-04-11</td>\n",
       "      <td>943.31</td>\n",
       "      <td>Product C</td>\n",
       "      <td>890075</td>\n",
       "      <td>Tokyo</td>\n",
       "      <td>97</td>\n",
       "      <td>1</td>\n",
       "      <td>943.31</td>\n",
       "      <td>1</td>\n",
       "      <td>1</td>\n",
       "      <td>5</td>\n",
       "      <td>7</td>\n",
       "    </tr>\n",
       "    <tr>\n",
       "      <th>1</th>\n",
       "      <td>2188</td>\n",
       "      <td>2023-04-11</td>\n",
       "      <td>463.70</td>\n",
       "      <td>Product A</td>\n",
       "      <td>176819</td>\n",
       "      <td>London</td>\n",
       "      <td>97</td>\n",
       "      <td>1</td>\n",
       "      <td>463.70</td>\n",
       "      <td>1</td>\n",
       "      <td>1</td>\n",
       "      <td>3</td>\n",
       "      <td>5</td>\n",
       "    </tr>\n",
       "    <tr>\n",
       "      <th>2</th>\n",
       "      <td>4608</td>\n",
       "      <td>2023-04-11</td>\n",
       "      <td>80.28</td>\n",
       "      <td>Product A</td>\n",
       "      <td>340062</td>\n",
       "      <td>New York</td>\n",
       "      <td>97</td>\n",
       "      <td>1</td>\n",
       "      <td>80.28</td>\n",
       "      <td>1</td>\n",
       "      <td>1</td>\n",
       "      <td>1</td>\n",
       "      <td>3</td>\n",
       "    </tr>\n",
       "    <tr>\n",
       "      <th>3</th>\n",
       "      <td>2559</td>\n",
       "      <td>2023-04-11</td>\n",
       "      <td>221.29</td>\n",
       "      <td>Product A</td>\n",
       "      <td>239145</td>\n",
       "      <td>London</td>\n",
       "      <td>97</td>\n",
       "      <td>1</td>\n",
       "      <td>221.29</td>\n",
       "      <td>1</td>\n",
       "      <td>1</td>\n",
       "      <td>1</td>\n",
       "      <td>3</td>\n",
       "    </tr>\n",
       "    <tr>\n",
       "      <th>4</th>\n",
       "      <td>9482</td>\n",
       "      <td>2023-04-11</td>\n",
       "      <td>739.56</td>\n",
       "      <td>Product A</td>\n",
       "      <td>194545</td>\n",
       "      <td>Paris</td>\n",
       "      <td>97</td>\n",
       "      <td>1</td>\n",
       "      <td>739.56</td>\n",
       "      <td>1</td>\n",
       "      <td>1</td>\n",
       "      <td>4</td>\n",
       "      <td>6</td>\n",
       "    </tr>\n",
       "  </tbody>\n",
       "</table>\n",
       "</div>"
      ],
      "text/plain": [
       "   CustomerID PurchaseDate  TransactionAmount ProductInformation  OrderID  \\\n",
       "0        8814   2023-04-11             943.31          Product C   890075   \n",
       "1        2188   2023-04-11             463.70          Product A   176819   \n",
       "2        4608   2023-04-11              80.28          Product A   340062   \n",
       "3        2559   2023-04-11             221.29          Product A   239145   \n",
       "4        9482   2023-04-11             739.56          Product A   194545   \n",
       "\n",
       "   Location  Recency  Frequency  Monetary  R  F  M  RFM Score  \n",
       "0     Tokyo       97          1    943.31  1  1  5          7  \n",
       "1    London       97          1    463.70  1  1  3          5  \n",
       "2  New York       97          1     80.28  1  1  1          3  \n",
       "3    London       97          1    221.29  1  1  1          3  \n",
       "4     Paris       97          1    739.56  1  1  4          6  "
      ]
     },
     "execution_count": 7,
     "metadata": {},
     "output_type": "execute_result"
    }
   ],
   "source": [
    "#calculate the RFM scores\n",
    "data['R'] = pd.qcut(data['Recency'], 5, labels=[5, 4, 3, 2, 1])\n",
    "data['F'] = pd.qcut(data['Frequency'].rank(method='first'), 5, labels=[1, 2, 3, 4, 5])\n",
    "data['M'] = pd.qcut(data['Monetary'], 5, labels=[1, 2, 3, 4, 5])\n",
    "#calculate the RFM score and display the first 5 rows\n",
    "data['RFM Score'] = data[['R','F','M']].sum(axis=1)\n",
    "data.head()"
   ]
  },
  {
   "cell_type": "code",
   "execution_count": 8,
   "metadata": {},
   "outputs": [
    {
     "name": "stdout",
     "output_type": "stream",
     "text": [
      "int32\n",
      "0    7\n",
      "1    5\n",
      "2    3\n",
      "3    3\n",
      "4    6\n",
      "Name: RFM Score, dtype: int32\n"
     ]
    }
   ],
   "source": [
    "#convert RFM scores to numeric type\n",
    "data['RFM Score'] = data['RFM Score'].astype(int)\n",
    "#explore the RFM score and its dtype\n",
    "print(data['RFM Score'].dtype)\n",
    "print(data['RFM Score'].head())"
   ]
  },
  {
   "cell_type": "markdown",
   "metadata": {},
   "source": [
    "#### RFM Value Segmentations"
   ]
  },
  {
   "cell_type": "code",
   "execution_count": 9,
   "metadata": {},
   "outputs": [
    {
     "data": {
      "text/html": [
       "<div>\n",
       "<style scoped>\n",
       "    .dataframe tbody tr th:only-of-type {\n",
       "        vertical-align: middle;\n",
       "    }\n",
       "\n",
       "    .dataframe tbody tr th {\n",
       "        vertical-align: top;\n",
       "    }\n",
       "\n",
       "    .dataframe thead th {\n",
       "        text-align: right;\n",
       "    }\n",
       "</style>\n",
       "<table border=\"1\" class=\"dataframe\">\n",
       "  <thead>\n",
       "    <tr style=\"text-align: right;\">\n",
       "      <th></th>\n",
       "      <th>CustomerID</th>\n",
       "      <th>PurchaseDate</th>\n",
       "      <th>TransactionAmount</th>\n",
       "      <th>ProductInformation</th>\n",
       "      <th>OrderID</th>\n",
       "      <th>Location</th>\n",
       "      <th>Recency</th>\n",
       "      <th>Frequency</th>\n",
       "      <th>Monetary</th>\n",
       "      <th>R</th>\n",
       "      <th>F</th>\n",
       "      <th>M</th>\n",
       "      <th>RFM Score</th>\n",
       "      <th>Segment Values</th>\n",
       "    </tr>\n",
       "  </thead>\n",
       "  <tbody>\n",
       "    <tr>\n",
       "      <th>0</th>\n",
       "      <td>8814</td>\n",
       "      <td>2023-04-11</td>\n",
       "      <td>943.31</td>\n",
       "      <td>Product C</td>\n",
       "      <td>890075</td>\n",
       "      <td>Tokyo</td>\n",
       "      <td>97</td>\n",
       "      <td>1</td>\n",
       "      <td>943.31</td>\n",
       "      <td>1</td>\n",
       "      <td>1</td>\n",
       "      <td>5</td>\n",
       "      <td>7</td>\n",
       "      <td>Mid Value</td>\n",
       "    </tr>\n",
       "    <tr>\n",
       "      <th>1</th>\n",
       "      <td>2188</td>\n",
       "      <td>2023-04-11</td>\n",
       "      <td>463.70</td>\n",
       "      <td>Product A</td>\n",
       "      <td>176819</td>\n",
       "      <td>London</td>\n",
       "      <td>97</td>\n",
       "      <td>1</td>\n",
       "      <td>463.70</td>\n",
       "      <td>1</td>\n",
       "      <td>1</td>\n",
       "      <td>3</td>\n",
       "      <td>5</td>\n",
       "      <td>Mid Value</td>\n",
       "    </tr>\n",
       "    <tr>\n",
       "      <th>2</th>\n",
       "      <td>4608</td>\n",
       "      <td>2023-04-11</td>\n",
       "      <td>80.28</td>\n",
       "      <td>Product A</td>\n",
       "      <td>340062</td>\n",
       "      <td>New York</td>\n",
       "      <td>97</td>\n",
       "      <td>1</td>\n",
       "      <td>80.28</td>\n",
       "      <td>1</td>\n",
       "      <td>1</td>\n",
       "      <td>1</td>\n",
       "      <td>3</td>\n",
       "      <td>Low Value</td>\n",
       "    </tr>\n",
       "    <tr>\n",
       "      <th>3</th>\n",
       "      <td>2559</td>\n",
       "      <td>2023-04-11</td>\n",
       "      <td>221.29</td>\n",
       "      <td>Product A</td>\n",
       "      <td>239145</td>\n",
       "      <td>London</td>\n",
       "      <td>97</td>\n",
       "      <td>1</td>\n",
       "      <td>221.29</td>\n",
       "      <td>1</td>\n",
       "      <td>1</td>\n",
       "      <td>1</td>\n",
       "      <td>3</td>\n",
       "      <td>Low Value</td>\n",
       "    </tr>\n",
       "    <tr>\n",
       "      <th>4</th>\n",
       "      <td>9482</td>\n",
       "      <td>2023-04-11</td>\n",
       "      <td>739.56</td>\n",
       "      <td>Product A</td>\n",
       "      <td>194545</td>\n",
       "      <td>Paris</td>\n",
       "      <td>97</td>\n",
       "      <td>1</td>\n",
       "      <td>739.56</td>\n",
       "      <td>1</td>\n",
       "      <td>1</td>\n",
       "      <td>4</td>\n",
       "      <td>6</td>\n",
       "      <td>Mid Value</td>\n",
       "    </tr>\n",
       "  </tbody>\n",
       "</table>\n",
       "</div>"
      ],
      "text/plain": [
       "   CustomerID PurchaseDate  TransactionAmount ProductInformation  OrderID  \\\n",
       "0        8814   2023-04-11             943.31          Product C   890075   \n",
       "1        2188   2023-04-11             463.70          Product A   176819   \n",
       "2        4608   2023-04-11              80.28          Product A   340062   \n",
       "3        2559   2023-04-11             221.29          Product A   239145   \n",
       "4        9482   2023-04-11             739.56          Product A   194545   \n",
       "\n",
       "   Location  Recency  Frequency  Monetary  R  F  M  RFM Score Segment Values  \n",
       "0     Tokyo       97          1    943.31  1  1  5          7      Mid Value  \n",
       "1    London       97          1    463.70  1  1  3          5      Mid Value  \n",
       "2  New York       97          1     80.28  1  1  1          3      Low Value  \n",
       "3    London       97          1    221.29  1  1  1          3      Low Value  \n",
       "4     Paris       97          1    739.56  1  1  4          6      Mid Value  "
      ]
     },
     "execution_count": 9,
     "metadata": {},
     "output_type": "execute_result"
    }
   ],
   "source": [
    "#create a function to segment the customers\n",
    "def segment(x):\n",
    "    if x >= 9:\n",
    "        return 'High Value'\n",
    "    elif x >= 5 and x < 9:\n",
    "        return 'Mid Value'\n",
    "    else:\n",
    "        return 'Low Value'\n",
    "#apply the function to the RFM score and create a new variable\n",
    "data['Segment Values'] = data['RFM Score'].apply(segment)\n",
    "#explore the first 5 rows\n",
    "data.head()"
   ]
  },
  {
   "cell_type": "code",
   "execution_count": 10,
   "metadata": {},
   "outputs": [
    {
     "data": {
      "image/png": "[encoded data removed]",
      "text/plain": [
       "<Figure size 1000x600 with 1 Axes>"
      ]
     },
     "metadata": {},
     "output_type": "display_data"
    }
   ],
   "source": [
    "#Segment distribution\n",
    "plt.figure(figsize=(10,6))\n",
    "sns.countplot(data['Segment Values'].value_counts(), palette='viridis')\n",
    "plt.title('RFM score Distribution', fontsize=16)\n",
    "plt.xlabel('Segment', fontsize=14)\n",
    "plt.ylabel('Count', fontsize=14)\n",
    "plt.xticks(fontsize=12)\n",
    "plt.yticks(fontsize=12)\n",
    "plt.show()"
   ]
  },
  {
   "cell_type": "code",
   "execution_count": 11,
   "metadata": {},
   "outputs": [
    {
     "data": {
      "text/html": [
       "<div>\n",
       "<style scoped>\n",
       "    .dataframe tbody tr th:only-of-type {\n",
       "        vertical-align: middle;\n",
       "    }\n",
       "\n",
       "    .dataframe tbody tr th {\n",
       "        vertical-align: top;\n",
       "    }\n",
       "\n",
       "    .dataframe thead th {\n",
       "        text-align: right;\n",
       "    }\n",
       "</style>\n",
       "<table border=\"1\" class=\"dataframe\">\n",
       "  <thead>\n",
       "    <tr style=\"text-align: right;\">\n",
       "      <th></th>\n",
       "      <th>Segment Values</th>\n",
       "      <th>Count</th>\n",
       "    </tr>\n",
       "  </thead>\n",
       "  <tbody>\n",
       "    <tr>\n",
       "      <th>0</th>\n",
       "      <td>High Value</td>\n",
       "      <td>573</td>\n",
       "    </tr>\n",
       "    <tr>\n",
       "      <th>1</th>\n",
       "      <td>Mid Value</td>\n",
       "      <td>347</td>\n",
       "    </tr>\n",
       "    <tr>\n",
       "      <th>2</th>\n",
       "      <td>Low Value</td>\n",
       "      <td>80</td>\n",
       "    </tr>\n",
       "  </tbody>\n",
       "</table>\n",
       "</div>"
      ],
      "text/plain": [
       "  Segment Values  Count\n",
       "0     High Value    573\n",
       "1      Mid Value    347\n",
       "2      Low Value     80"
      ]
     },
     "execution_count": 11,
     "metadata": {},
     "output_type": "execute_result"
    }
   ],
   "source": [
    "#rfm segement distribution\n",
    "segment_counts = data['Segment Values'].value_counts().reset_index()\n",
    "segment_counts.columns = ['Segment Values', 'Count']\n",
    "segment_counts.head()\n"
   ]
  },
  {
   "cell_type": "code",
   "execution_count": 12,
   "metadata": {},
   "outputs": [
    {
     "data": {
      "image/png": "[encoded data removed]",
      "text/plain": [
       "<Figure size 1000x600 with 1 Axes>"
      ]
     },
     "metadata": {},
     "output_type": "display_data"
    }
   ],
   "source": [
    "#create a bar chart to visualize the segment count distribution\n",
    "pastel_colors = sns.color_palette('pastel')\n",
    "#create a bar chart\n",
    "plt.figure(figsize=(10,6))\n",
    "sns.barplot(x='Segment Values', y='Count', data=segment_counts, palette=pastel_colors)\n",
    "plt.title('RFM Value Segment Distribution', fontsize=16)\n",
    "plt.xlabel('RFM Value Segment')\n",
    "plt.ylabel('Count')\n",
    "plt.xticks(fontsize=12)\n",
    "plt.yticks(fontsize=12)\n",
    "plt.show()"
   ]
  },
  {
   "cell_type": "markdown",
   "metadata": {},
   "source": [
    "### RFM Cusomer Segements"
   ]
  },
  {
   "cell_type": "code",
   "execution_count": 13,
   "metadata": {},
   "outputs": [
    {
     "name": "stdout",
     "output_type": "stream",
     "text": [
      "     CustomerID  RFM Score RFM Customer Segments\n",
      "0          8814          7             Potential\n",
      "1          2188          5     At-Risk Customers\n",
      "2          4608          3        Lost Customers\n",
      "3          2559          3        Lost Customers\n",
      "4          9482          6             Potential\n",
      "..          ...        ...                   ...\n",
      "995        2970         14             Champions\n",
      "996        6669         15             Champions\n",
      "997        8836         13             Champions\n",
      "998        1440         14             Champions\n",
      "999        4759         14             Champions\n",
      "\n",
      "[1000 rows x 3 columns]\n"
     ]
    }
   ],
   "source": [
    "#create a new column for RFM customer segments\n",
    "data['RFM Customer Segments'] = ''\n",
    "#assign the RFM customer segments\n",
    "data.loc[data['RFM Score'] >= 9, 'RFM Customer Segments'] = 'Champions'\n",
    "data.loc[(data['RFM Score'] >= 6) & (data['RFM Score'] < 9), 'RFM Customer Segments'] = 'Potential'\n",
    "data.loc[(data['RFM Score'] >= 5) & (data['RFM Score'] < 6), 'RFM Customer Segments'] = 'At-Risk Customers'\n",
    "data.loc[(data['RFM Score'] >= 4) & (data['RFM Score'] <5), 'RFM Customer Segments'] = 'Can\\'t Lose Them'\n",
    "data.loc[(data['RFM Score']>=3) & (data['RFM Score'] <4), 'RFM Customer Segments'] = 'Lost Customers'\n",
    "\n",
    "#print the updated data with RFM segments\n",
    "print(data[['CustomerID','RFM Score','RFM Customer Segments']])\n",
    "\n"
   ]
  },
  {
   "cell_type": "markdown",
   "metadata": {},
   "source": [
    "#### RFM ANALYSIS"
   ]
  },
  {
   "cell_type": "code",
   "execution_count": 14,
   "metadata": {},
   "outputs": [
    {
     "data": {
      "image/png": "[encoded data removed]",
      "text/plain": [
       "<Figure size 1000x600 with 1 Axes>"
      ]
     },
     "metadata": {},
     "output_type": "display_data"
    }
   ],
   "source": [
    "segment_product_counts = data.groupby(['Segment Values','RFM Customer Segments']).size().reset_index(name='Count')\n",
    "segment_product_counts = segment_product_counts.sort_values(by='Count', ascending=False)\n",
    "\n",
    "plt.figure(figsize=(10,6))\n",
    "sns.barplot(data=segment_product_counts, x='Count', y='RFM Customer Segments', hue='Segment Values', palette=pastel_colors)\n",
    "plt.title('RFM Customer Segments by value', fontsize=16)\n",
    "plt.xlabel('Count', fontsize=14)\n",
    "plt.ylabel('RFM Customer Segments', fontsize=14)\n",
    "plt.xticks(fontsize=12)\n",
    "plt.yticks(fontsize=12) \n",
    "plt.show()"
   ]
  },
  {
   "cell_type": "code",
   "execution_count": 15,
   "metadata": {},
   "outputs": [
    {
     "data": {
      "image/png": "[encoded data removed]",
      "text/plain": [
       "<Figure size 1000x600 with 1 Axes>"
      ]
     },
     "metadata": {},
     "output_type": "display_data"
    }
   ],
   "source": [
    "import squarify\n",
    "\n",
    "segment_product_counts = data.groupby(['Segment Values','RFM Customer Segments']).size().reset_index(name='Count')\n",
    "segment_product_counts = segment_product_counts.sort_values(by='Count', ascending=False)\n",
    "\n",
    "# Assign colors to each segment value\n",
    "colors = {'High Value': 'green', 'Mid Value': 'orange', 'Low Value': 'red'}\n",
    "\n",
    "# Create a list of colors for each segment value\n",
    "color_list = [colors[val] for val in segment_product_counts['Segment Values']]\n",
    "\n",
    "# Create a treemap using squarify\n",
    "plt.figure(figsize=(10,6))\n",
    "squarify.plot(sizes=segment_product_counts['Count'], label=segment_product_counts['RFM Customer Segments'], color=color_list, alpha=0.7)\n",
    "plt.axis('off')\n",
    "plt.title('RFM Customer Segments by value', fontsize=16)\n",
    "plt.show()"
   ]
  },
  {
   "cell_type": "code",
   "execution_count": 16,
   "metadata": {},
   "outputs": [
    {
     "data": {
      "image/png": "[encoded data removed]",
      "text/plain": [
       "<Figure size 1000x600 with 1 Axes>"
      ]
     },
     "metadata": {},
     "output_type": "display_data"
    }
   ],
   "source": [
    "import squarify\n",
    "import matplotlib.pyplot as plt\n",
    "\n",
    "segment_product_counts = data.groupby(['Segment Values', 'RFM Customer Segments']).size().reset_index(name='Count')\n",
    "segment_product_counts = segment_product_counts.sort_values(by='Count', ascending=False)\n",
    "\n",
    "# Assign colors to each segment value\n",
    "colors = {'High Value': 'green', 'Mid Value': 'orange', 'Low Value': 'red'}\n",
    "\n",
    "# Create a list of colors for each segment value\n",
    "color_list = [colors[val] for val in segment_product_counts['Segment Values']]\n",
    "\n",
    "# Create a treemap using squarify\n",
    "plt.figure(figsize=(10,6))\n",
    "squarify.plot(sizes=segment_product_counts['Count'], label=[f\"{x}\\n{y}\" for x, y in zip(segment_product_counts['Segment Values'], segment_product_counts['RFM Customer Segments'])], color=color_list, alpha=0.7)\n",
    "plt.axis('off')\n",
    "plt.title('RFM Customer Segments by Value', fontsize=16)\n",
    "plt.show()"
   ]
  },
  {
   "cell_type": "code",
   "execution_count": 23,
   "metadata": {},
   "outputs": [
    {
     "data": {
      "application/vnd.plotly.v1+json": {
       "config": {
        "plotlyServerURL": "https://plot.ly"
       },
       "data": [
        {
         "branchvalues": "total",
         "customdata": [
          [
           "Mid Value"
          ],
          [
           "Low Value"
          ],
          [
           "Mid Value"
          ],
          [
           "Low Value"
          ],
          [
           "High Value"
          ],
          [
           "High Value"
          ],
          [
           "Low Value"
          ],
          [
           "Mid Value"
          ]
         ],
         "domain": {
          "x": [
           0,
           1
          ],
          "y": [
           0,
           1
          ]
         },
         "hovertemplate": "labels=%{label}<br>Count=%{value}<br>parent=%{parent}<br>id=%{id}<br>Segment Values=%{customdata[0]}<extra></extra>",
         "ids": [
          "Mid Value/At-Risk Customers",
          "Low Value/Lost Customers",
          "Mid Value/Potential",
          "Low Value/Can't Lose Them",
          "High Value/Champions",
          "High Value",
          "Low Value",
          "Mid Value"
         ],
         "labels": [
          "At-Risk Customers",
          "Lost Customers",
          "Potential",
          "Can't Lose Them",
          "Champions",
          "High Value",
          "Low Value",
          "Mid Value"
         ],
         "marker": {
          "colors": [
           "orange",
           "red",
           "orange",
           "red",
           "green",
           "green",
           "red",
           "orange"
          ]
         },
         "name": "",
         "parents": [
          "Mid Value",
          "Low Value",
          "Mid Value",
          "Low Value",
          "High Value",
          "",
          "",
          ""
         ],
         "type": "treemap",
         "values": [
          82,
          43,
          265,
          37,
          573,
          573,
          80,
          347
         ]
        }
       ],
       "layout": {
        "legend": {
         "tracegroupgap": 0
        },
        "template": {
         "data": {
          "bar": [
           {
            "error_x": {
             "color": "#2a3f5f"
            },
            "error_y": {
             "color": "#2a3f5f"
            },
            "marker": {
             "line": {
              "color": "#E5ECF6",
              "width": 0.5
             },
             "pattern": {
              "fillmode": "overlay",
              "size": 10,
              "solidity": 0.2
             }
            },
            "type": "bar"
           }
          ],
          "barpolar": [
           {
            "marker": {
             "line": {
              "color": "#E5ECF6",
              "width": 0.5
             },
             "pattern": {
              "fillmode": "overlay",
              "size": 10,
              "solidity": 0.2
             }
            },
            "type": "barpolar"
           }
          ],
          "carpet": [
           {
            "aaxis": {
             "endlinecolor": "#2a3f5f",
             "gridcolor": "white",
             "linecolor": "white",
             "minorgridcolor": "white",
             "startlinecolor": "#2a3f5f"
            },
            "baxis": {
             "endlinecolor": "#2a3f5f",
             "gridcolor": "white",
             "linecolor": "white",
             "minorgridcolor": "white",
             "startlinecolor": "#2a3f5f"
            },
            "type": "carpet"
           }
          ],
          "choropleth": [
           {
            "colorbar": {
             "outlinewidth": 0,
             "ticks": ""
            },
            "type": "choropleth"
           }
          ],
          "contour": [
           {
            "colorbar": {
             "outlinewidth": 0,
             "ticks": ""
            },
            "colorscale": [
             [
              0,
              "#0d0887"
             ],
             [
              0.1111111111111111,
              "#46039f"
             ],
             [
              0.2222222222222222,
              "#7201a8"
             ],
             [
              0.3333333333333333,
              "#9c179e"
             ],
             [
              0.4444444444444444,
              "#bd3786"
             ],
             [
              0.5555555555555556,
              "#d8576b"
             ],
             [
              0.6666666666666666,
              "#ed7953"
             ],
             [
              0.7777777777777778,
              "#fb9f3a"
             ],
             [
              0.8888888888888888,
              "#fdca26"
             ],
             [
              1,
              "#f0f921"
             ]
            ],
            "type": "contour"
           }
          ],
          "contourcarpet": [
           {
            "colorbar": {
             "outlinewidth": 0,
             "ticks": ""
            },
            "type": "contourcarpet"
           }
          ],
          "heatmap": [
           {
            "colorbar": {
             "outlinewidth": 0,
             "ticks": ""
            },
            "colorscale": [
             [
              0,
              "#0d0887"
             ],
             [
              0.1111111111111111,
              "#46039f"
             ],
             [
              0.2222222222222222,
              "#7201a8"
             ],
             [
              0.3333333333333333,
              "#9c179e"
             ],
             [
              0.4444444444444444,
              "#bd3786"
             ],
             [
              0.5555555555555556,
              "#d8576b"
             ],
             [
              0.6666666666666666,
              "#ed7953"
             ],
             [
              0.7777777777777778,
              "#fb9f3a"
             ],
             [
              0.8888888888888888,
              "#fdca26"
             ],
             [
              1,
              "#f0f921"
             ]
            ],
            "type": "heatmap"
           }
          ],
          "heatmapgl": [
           {
            "colorbar": {
             "outlinewidth": 0,
             "ticks": ""
            },
            "colorscale": [
             [
              0,
              "#0d0887"
             ],
             [
              0.1111111111111111,
              "#46039f"
             ],
             [
              0.2222222222222222,
              "#7201a8"
             ],
             [
              0.3333333333333333,
              "#9c179e"
             ],
             [
              0.4444444444444444,
              "#bd3786"
             ],
             [
              0.5555555555555556,
              "#d8576b"
             ],
             [
              0.6666666666666666,
              "#ed7953"
             ],
             [
              0.7777777777777778,
              "#fb9f3a"
             ],
             [
              0.8888888888888888,
              "#fdca26"
             ],
             [
              1,
              "#f0f921"
             ]
            ],
            "type": "heatmapgl"
           }
          ],
          "histogram": [
           {
            "marker": {
             "pattern": {
              "fillmode": "overlay",
              "size": 10,
              "solidity": 0.2
             }
            },
            "type": "histogram"
           }
          ],
          "histogram2d": [
           {
            "colorbar": {
             "outlinewidth": 0,
             "ticks": ""
            },
            "colorscale": [
             [
              0,
              "#0d0887"
             ],
             [
              0.1111111111111111,
              "#46039f"
             ],
             [
              0.2222222222222222,
              "#7201a8"
             ],
             [
              0.3333333333333333,
              "#9c179e"
             ],
             [
              0.4444444444444444,
              "#bd3786"
             ],
             [
              0.5555555555555556,
              "#d8576b"
             ],
             [
              0.6666666666666666,
              "#ed7953"
             ],
             [
              0.7777777777777778,
              "#fb9f3a"
             ],
             [
              0.8888888888888888,
              "#fdca26"
             ],
             [
              1,
              "#f0f921"
             ]
            ],
            "type": "histogram2d"
           }
          ],
          "histogram2dcontour": [
           {
            "colorbar": {
             "outlinewidth": 0,
             "ticks": ""
            },
            "colorscale": [
             [
              0,
              "#0d0887"
             ],
             [
              0.1111111111111111,
              "#46039f"
             ],
             [
              0.2222222222222222,
              "#7201a8"
             ],
             [
              0.3333333333333333,
              "#9c179e"
             ],
             [
              0.4444444444444444,
              "#bd3786"
             ],
             [
              0.5555555555555556,
              "#d8576b"
             ],
             [
              0.6666666666666666,
              "#ed7953"
             ],
             [
              0.7777777777777778,
              "#fb9f3a"
             ],
             [
              0.8888888888888888,
              "#fdca26"
             ],
             [
              1,
              "#f0f921"
             ]
            ],
            "type": "histogram2dcontour"
           }
          ],
          "mesh3d": [
           {
            "colorbar": {
             "outlinewidth": 0,
             "ticks": ""
            },
            "type": "mesh3d"
           }
          ],
          "parcoords": [
           {
            "line": {
             "colorbar": {
              "outlinewidth": 0,
              "ticks": ""
             }
            },
            "type": "parcoords"
           }
          ],
          "pie": [
           {
            "automargin": true,
            "type": "pie"
           }
          ],
          "scatter": [
           {
            "fillpattern": {
             "fillmode": "overlay",
             "size": 10,
             "solidity": 0.2
            },
            "type": "scatter"
           }
          ],
          "scatter3d": [
           {
            "line": {
             "colorbar": {
              "outlinewidth": 0,
              "ticks": ""
             }
            },
            "marker": {
             "colorbar": {
              "outlinewidth": 0,
              "ticks": ""
             }
            },
            "type": "scatter3d"
           }
          ],
          "scattercarpet": [
           {
            "marker": {
             "colorbar": {
              "outlinewidth": 0,
              "ticks": ""
             }
            },
            "type": "scattercarpet"
           }
          ],
          "scattergeo": [
           {
            "marker": {
             "colorbar": {
              "outlinewidth": 0,
              "ticks": ""
             }
            },
            "type": "scattergeo"
           }
          ],
          "scattergl": [
           {
            "marker": {
             "colorbar": {
              "outlinewidth": 0,
              "ticks": ""
             }
            },
            "type": "scattergl"
           }
          ],
          "scattermapbox": [
           {
            "marker": {
             "colorbar": {
              "outlinewidth": 0,
              "ticks": ""
             }
            },
            "type": "scattermapbox"
           }
          ],
          "scatterpolar": [
           {
            "marker": {
             "colorbar": {
              "outlinewidth": 0,
              "ticks": ""
             }
            },
            "type": "scatterpolar"
           }
          ],
          "scatterpolargl": [
           {
            "marker": {
             "colorbar": {
              "outlinewidth": 0,
              "ticks": ""
             }
            },
            "type": "scatterpolargl"
           }
          ],
          "scatterternary": [
           {
            "marker": {
             "colorbar": {
              "outlinewidth": 0,
              "ticks": ""
             }
            },
            "type": "scatterternary"
           }
          ],
          "surface": [
           {
            "colorbar": {
             "outlinewidth": 0,
             "ticks": ""
            },
            "colorscale": [
             [
              0,
              "#0d0887"
             ],
             [
              0.1111111111111111,
              "#46039f"
             ],
             [
              0.2222222222222222,
              "#7201a8"
             ],
             [
              0.3333333333333333,
              "#9c179e"
             ],
             [
              0.4444444444444444,
              "#bd3786"
             ],
             [
              0.5555555555555556,
              "#d8576b"
             ],
             [
              0.6666666666666666,
              "#ed7953"
             ],
             [
              0.7777777777777778,
              "#fb9f3a"
             ],
             [
              0.8888888888888888,
              "#fdca26"
             ],
             [
              1,
              "#f0f921"
             ]
            ],
            "type": "surface"
           }
          ],
          "table": [
           {
            "cells": {
             "fill": {
              "color": "#EBF0F8"
             },
             "line": {
              "color": "white"
             }
            },
            "header": {
             "fill": {
              "color": "#C8D4E3"
             },
             "line": {
              "color": "white"
             }
            },
            "type": "table"
           }
          ]
         },
         "layout": {
          "annotationdefaults": {
           "arrowcolor": "#2a3f5f",
           "arrowhead": 0,
           "arrowwidth": 1
          },
          "autotypenumbers": "strict",
          "coloraxis": {
           "colorbar": {
            "outlinewidth": 0,
            "ticks": ""
           }
          },
          "colorscale": {
           "diverging": [
            [
             0,
             "#8e0152"
            ],
            [
             0.1,
             "#c51b7d"
            ],
            [
             0.2,
             "#de77ae"
            ],
            [
             0.3,
             "#f1b6da"
            ],
            [
             0.4,
             "#fde0ef"
            ],
            [
             0.5,
             "#f7f7f7"
            ],
            [
             0.6,
             "#e6f5d0"
            ],
            [
             0.7,
             "#b8e186"
            ],
            [
             0.8,
             "#7fbc41"
            ],
            [
             0.9,
             "#4d9221"
            ],
            [
             1,
             "#276419"
            ]
           ],
           "sequential": [
            [
             0,
             "#0d0887"
            ],
            [
             0.1111111111111111,
             "#46039f"
            ],
            [
             0.2222222222222222,
             "#7201a8"
            ],
            [
             0.3333333333333333,
             "#9c179e"
            ],
            [
             0.4444444444444444,
             "#bd3786"
            ],
            [
             0.5555555555555556,
             "#d8576b"
            ],
            [
             0.6666666666666666,
             "#ed7953"
            ],
            [
             0.7777777777777778,
             "#fb9f3a"
            ],
            [
             0.8888888888888888,
             "#fdca26"
            ],
            [
             1,
             "#f0f921"
            ]
           ],
           "sequentialminus": [
            [
             0,
             "#0d0887"
            ],
            [
             0.1111111111111111,
             "#46039f"
            ],
            [
             0.2222222222222222,
             "#7201a8"
            ],
            [
             0.3333333333333333,
             "#9c179e"
            ],
            [
             0.4444444444444444,
             "#bd3786"
            ],
            [
             0.5555555555555556,
             "#d8576b"
            ],
            [
             0.6666666666666666,
             "#ed7953"
            ],
            [
             0.7777777777777778,
             "#fb9f3a"
            ],
            [
             0.8888888888888888,
             "#fdca26"
            ],
            [
             1,
             "#f0f921"
            ]
           ]
          },
          "colorway": [
           "#636efa",
           "#EF553B",
           "#00cc96",
           "#ab63fa",
           "#FFA15A",
           "#19d3f3",
           "#FF6692",
           "#B6E880",
           "#FF97FF",
           "#FECB52"
          ],
          "font": {
           "color": "#2a3f5f"
          },
          "geo": {
           "bgcolor": "white",
           "lakecolor": "white",
           "landcolor": "#E5ECF6",
           "showlakes": true,
           "showland": true,
           "subunitcolor": "white"
          },
          "hoverlabel": {
           "align": "left"
          },
          "hovermode": "closest",
          "mapbox": {
           "style": "light"
          },
          "paper_bgcolor": "white",
          "plot_bgcolor": "#E5ECF6",
          "polar": {
           "angularaxis": {
            "gridcolor": "white",
            "linecolor": "white",
            "ticks": ""
           },
           "bgcolor": "#E5ECF6",
           "radialaxis": {
            "gridcolor": "white",
            "linecolor": "white",
            "ticks": ""
           }
          },
          "scene": {
           "xaxis": {
            "backgroundcolor": "#E5ECF6",
            "gridcolor": "white",
            "gridwidth": 2,
            "linecolor": "white",
            "showbackground": true,
            "ticks": "",
            "zerolinecolor": "white"
           },
           "yaxis": {
            "backgroundcolor": "#E5ECF6",
            "gridcolor": "white",
            "gridwidth": 2,
            "linecolor": "white",
            "showbackground": true,
            "ticks": "",
            "zerolinecolor": "white"
           },
           "zaxis": {
            "backgroundcolor": "#E5ECF6",
            "gridcolor": "white",
            "gridwidth": 2,
            "linecolor": "white",
            "showbackground": true,
            "ticks": "",
            "zerolinecolor": "white"
           }
          },
          "shapedefaults": {
           "line": {
            "color": "#2a3f5f"
           }
          },
          "ternary": {
           "aaxis": {
            "gridcolor": "white",
            "linecolor": "white",
            "ticks": ""
           },
           "baxis": {
            "gridcolor": "white",
            "linecolor": "white",
            "ticks": ""
           },
           "bgcolor": "#E5ECF6",
           "caxis": {
            "gridcolor": "white",
            "linecolor": "white",
            "ticks": ""
           }
          },
          "title": {
           "x": 0.05
          },
          "xaxis": {
           "automargin": true,
           "gridcolor": "white",
           "linecolor": "white",
           "ticks": "",
           "title": {
            "standoff": 15
           },
           "zerolinecolor": "white",
           "zerolinewidth": 2
          },
          "yaxis": {
           "automargin": true,
           "gridcolor": "white",
           "linecolor": "white",
           "ticks": "",
           "title": {
            "standoff": 15
           },
           "zerolinecolor": "white",
           "zerolinewidth": 2
          }
         }
        },
        "title": {
         "text": "RFM Customer Segments by Value"
        }
       }
      }
     },
     "metadata": {},
     "output_type": "display_data"
    }
   ],
   "source": [
    "import plotly.express as px\n",
    "\n",
    "segment_product_counts = data.groupby(['Segment Values', 'RFM Customer Segments']).size().reset_index(name='Count')\n",
    "segment_product_counts = segment_product_counts.sort_values(by='Count', ascending=False)\n",
    "\n",
    "# Assign colors to each segment value\n",
    "colors = {'High Value': 'green', 'Mid Value': 'orange', 'Low Value': 'red'}\n",
    "\n",
    "# Create a treemap using Plotly\n",
    "fig = px.treemap(segment_product_counts, \n",
    "                 path=['Segment Values', 'RFM Customer Segments'], \n",
    "                 values='Count',\n",
    "                 color='Segment Values', color_discrete_map=colors,\n",
    "                 title='RFM Customer Segments by Value')\n",
    "fig.show()"
   ]
  },
  {
   "cell_type": "code",
   "execution_count": 17,
   "metadata": {},
   "outputs": [
    {
     "data": {
      "image/png": "[encoded data removed]",
      "text/plain": [
       "<Figure size 1000x600 with 1 Axes>"
      ]
     },
     "metadata": {},
     "output_type": "display_data"
    }
   ],
   "source": [
    "#filter the data to include only the customers in the champions segment\n",
    "champions = data[data['RFM Customer Segments'] == 'Champions']\n",
    "#plot\n",
    "plt.figure(figsize=(10,6))\n",
    "sns.distplot(champions['Monetary'], color='green')\n",
    "plt.title('Monetary Value Distribution for Champions', fontsize=16)\n",
    "plt.xlabel('Monetary Value', fontsize=14)\n",
    "plt.ylabel('Distribution', fontsize=14)\n",
    "plt.xticks(fontsize=12)\n",
    "plt.yticks(fontsize=12)\n",
    "plt.show()\n"
   ]
  },
  {
   "cell_type": "code",
   "execution_count": 18,
   "metadata": {},
   "outputs": [
    {
     "data": {
      "image/png": "[encoded data removed]",
      "text/plain": [
       "<Figure size 1000x600 with 1 Axes>"
      ]
     },
     "metadata": {},
     "output_type": "display_data"
    }
   ],
   "source": [
    "#filter the data to include only the customers in the champions segment\n",
    "champions = data[data['RFM Customer Segments'] == 'Champions']\n",
    "#plot the distribution for RFM values\n",
    "plt.figure(figsize=(10,6))\n",
    "sns.distplot(champions['Recency'], color='green')\n",
    "plt.title('Recency Value Distribution for Champions', fontsize=16)\n",
    "plt.xlabel('Recency Value', fontsize=14)\n",
    "plt.ylabel('Distribution', fontsize=14)\n",
    "plt.xticks(fontsize=12)\n",
    "plt.yticks(fontsize=12)\n",
    "plt.show()\n"
   ]
  },
  {
   "cell_type": "code",
   "execution_count": 19,
   "metadata": {},
   "outputs": [
    {
     "data": {
      "image/png": "[encoded data removed]",
      "text/plain": [
       "<Figure size 1000x600 with 1 Axes>"
      ]
     },
     "metadata": {},
     "output_type": "display_data"
    }
   ],
   "source": [
    "#filter the data to include only the customers in the champions segment\n",
    "champions = data[data['RFM Customer Segments'] == 'Champions']\n",
    "#plot the distribution for RFM values\n",
    "plt.figure(figsize=(10,6))\n",
    "sns.distplot(champions['Frequency'], color='green')\n",
    "plt.title('Frequency Value Distribution for Champions', fontsize=16)\n",
    "plt.xlabel('Frequency Value', fontsize=14)\n",
    "plt.ylabel('Distribution', fontsize=14)\n",
    "plt.xticks(fontsize=12)\n",
    "plt.yticks(fontsize=12)\n",
    "plt.show()"
   ]
  },
  {
   "cell_type": "code",
   "execution_count": 20,
   "metadata": {},
   "outputs": [
    {
     "data": {
      "image/png": "[encoded data removed]",
      "text/plain": [
       "<Figure size 640x480 with 1 Axes>"
      ]
     },
     "metadata": {},
     "output_type": "display_data"
    }
   ],
   "source": [
    "# Filter the data to only include Champions\n",
    "champions_data = data[data['RFM Customer Segments'] == 'Champions']\n",
    "\n",
    "# Create a scatter plot of Recency vs Frequency\n",
    "plt.scatter(champions_data['Recency'], champions_data['Frequency'], color='blue')\n",
    "plt.xlabel('Recency')\n",
    "plt.ylabel('Frequency')\n",
    "plt.title('Champions Distribution based on RFM Values')\n",
    "plt.show()"
   ]
  },
  {
   "cell_type": "code",
   "execution_count": 21,
   "metadata": {},
   "outputs": [
    {
     "data": {
      "image/png": "[encoded data removed]",
      "text/plain": [
       "<Figure size 640x480 with 2 Axes>"
      ]
     },
     "metadata": {},
     "output_type": "display_data"
    }
   ],
   "source": [
    "# Create a scatter plot of Recency vs Frequency, colored by RFM Score\n",
    "plt.scatter(data['Recency'], data['Frequency'], c=data['RFM Score'], cmap='viridis')\n",
    "plt.xlabel('Recency')\n",
    "plt.ylabel('Frequency')\n",
    "plt.title('RFM Score Distribution based on Recency and Frequency')\n",
    "plt.colorbar()\n",
    "plt.show()"
   ]
  },
  {
   "cell_type": "code",
   "execution_count": 22,
   "metadata": {},
   "outputs": [
    {
     "data": {
      "application/vnd.plotly.v1+json": {
       "config": {
        "plotlyServerURL": "https://plot.ly"
       },
       "data": [
        {
         "name": "Recency",
         "type": "box",
         "y": [
          97,
          95,
          95,
          95,
          95,
          95,
          94,
          94,
          94,
          92,
          91,
          91,
          90,
          89,
          88,
          88,
          87,
          86,
          86,
          85,
          84,
          84,
          84,
          83,
          83,
          83,
          83,
          82,
          82,
          82,
          82,
          82,
          81,
          81,
          81,
          81,
          81,
          81,
          80,
          80,
          80,
          80,
          79,
          79,
          79,
          79,
          79,
          78,
          78,
          78,
          77,
          77,
          77,
          77,
          77,
          76,
          76,
          76,
          76,
          76,
          76,
          76,
          75,
          75,
          75,
          75,
          75,
          74,
          74,
          74,
          74,
          74,
          74,
          74,
          74,
          74,
          74,
          74,
          74,
          74,
          73,
          73,
          73,
          73,
          73,
          73,
          73,
          73,
          72,
          72,
          72,
          72,
          72,
          72,
          72,
          72,
          71,
          71,
          71,
          71,
          71,
          71,
          71,
          71,
          71,
          70,
          70,
          70,
          70,
          70,
          70,
          70,
          70,
          70,
          69,
          69,
          69,
          69,
          69,
          69,
          69,
          69,
          69,
          69,
          68,
          68,
          68,
          68,
          68,
          68,
          68,
          68,
          68,
          68,
          68,
          68,
          68,
          68,
          68,
          68,
          67,
          67,
          67,
          67,
          67,
          67,
          67,
          67,
          67,
          67,
          66,
          66,
          66,
          66,
          66,
          66,
          65,
          65,
          65,
          65,
          65,
          65,
          65,
          65,
          65,
          65,
          64,
          64,
          64,
          64,
          64,
          64,
          64,
          64,
          64,
          63,
          63,
          63,
          63,
          63,
          62,
          62,
          62,
          62,
          62,
          62,
          62,
          62,
          62,
          62,
          62,
          62,
          62,
          62,
          62,
          61,
          61,
          61,
          61,
          61,
          61,
          61,
          61,
          61,
          61,
          61,
          61,
          60,
          60,
          60,
          60,
          60,
          60,
          60,
          59,
          59,
          59,
          59,
          59,
          59,
          59,
          59,
          59,
          59,
          59,
          59,
          59,
          58,
          58,
          58,
          58,
          58,
          58,
          58,
          58,
          58,
          58,
          58,
          58,
          57,
          57,
          57,
          57,
          57,
          57,
          57,
          56,
          56,
          56,
          56,
          56,
          56,
          56,
          56,
          56,
          56,
          56,
          56,
          56,
          56,
          56,
          56,
          56,
          56,
          56,
          55,
          55,
          55,
          55,
          55,
          55,
          55,
          55,
          55,
          55,
          55,
          55,
          55,
          55,
          55,
          54,
          54,
          54,
          54,
          54,
          54,
          54,
          54,
          54,
          54,
          54,
          54,
          54,
          54,
          54,
          54,
          54,
          53,
          53,
          53,
          53,
          53,
          53,
          53,
          53,
          53,
          53,
          53,
          53,
          53,
          53,
          53,
          53,
          52,
          52,
          52,
          52,
          52,
          52,
          52,
          52,
          52,
          52,
          52,
          52,
          52,
          52,
          52,
          52,
          52,
          51,
          51,
          51,
          51,
          51,
          51,
          51,
          51,
          51,
          51,
          51,
          51,
          51,
          51,
          51,
          51,
          51,
          51,
          51,
          51,
          51,
          50,
          50,
          50,
          50,
          50,
          50,
          50,
          50,
          50,
          50,
          50,
          50,
          50,
          50,
          50,
          50,
          50,
          50,
          50,
          50,
          50,
          49,
          49,
          49,
          49,
          49,
          49,
          49,
          49,
          49,
          49,
          49,
          49,
          49,
          49,
          49,
          49,
          49,
          49,
          49,
          49,
          49,
          49,
          49,
          49,
          48,
          48,
          48,
          48,
          48,
          48,
          48,
          48,
          48,
          48,
          48,
          48,
          48,
          48,
          47,
          47,
          47,
          47,
          47,
          47,
          47,
          47,
          47,
          47,
          47,
          47,
          47,
          47,
          47,
          47,
          47,
          47,
          47,
          46,
          46,
          46,
          46,
          46,
          46,
          46,
          46,
          46,
          46,
          45,
          45,
          45,
          45,
          45,
          45,
          45,
          45,
          45,
          45,
          45,
          45,
          45,
          45,
          45,
          45,
          44,
          44,
          44,
          44,
          44,
          44,
          44,
          44,
          44,
          44,
          44,
          44,
          44,
          44,
          44,
          43,
          43,
          43,
          43,
          43,
          43,
          43,
          43,
          43,
          43,
          43,
          43,
          43,
          43,
          43,
          43,
          43,
          43,
          43,
          43,
          43,
          42,
          42,
          42,
          42,
          42,
          42,
          42,
          42,
          42,
          42,
          42,
          42,
          42,
          42,
          42,
          42,
          42,
          42,
          42,
          42,
          42,
          42,
          42,
          41,
          41,
          41,
          41,
          41,
          41,
          41,
          41,
          41,
          41,
          40,
          40,
          40,
          40,
          40,
          40,
          40,
          40,
          40,
          40,
          40,
          39,
          39,
          39,
          39,
          39,
          39,
          39,
          39,
          39,
          38,
          38,
          38,
          38,
          38,
          38,
          38,
          38,
          38,
          38,
          37,
          37,
          37,
          37,
          37,
          37,
          37,
          37,
          37,
          37,
          37,
          37,
          37,
          37,
          37,
          37,
          37,
          37,
          37
         ]
        },
        {
         "name": "Frequency",
         "type": "box",
         "y": [
          2,
          2,
          2,
          2,
          2,
          2,
          2,
          2,
          3,
          2,
          2,
          2,
          2,
          2,
          2,
          2,
          2,
          3,
          2,
          2,
          2,
          2,
          2,
          2,
          3,
          2,
          1,
          1,
          1,
          3,
          2,
          2,
          1,
          2,
          2,
          1,
          1,
          1,
          1,
          3,
          2,
          1,
          1,
          2,
          2,
          1,
          2,
          2,
          1,
          2,
          2,
          1,
          2,
          2,
          1,
          1,
          1,
          1,
          2,
          2,
          2,
          2,
          1,
          3,
          1,
          1,
          2,
          1,
          1,
          1,
          2,
          1,
          1,
          1,
          1,
          2,
          1,
          1,
          1,
          1,
          2,
          2,
          1,
          1,
          1,
          1,
          2,
          2,
          2,
          1,
          1,
          1,
          1,
          1,
          1,
          1,
          1,
          1,
          2,
          2,
          2,
          1,
          1,
          2,
          1,
          2,
          1,
          1,
          1,
          1,
          1,
          1,
          1,
          1,
          1,
          1,
          1,
          1,
          1,
          2,
          1,
          1,
          1,
          1,
          2,
          1,
          1,
          2,
          1,
          1,
          1,
          1,
          1,
          2,
          1,
          2,
          1,
          1,
          1,
          3,
          1,
          2,
          1,
          2,
          1,
          1,
          1,
          2,
          1,
          1,
          1,
          1,
          1,
          2,
          1,
          1,
          1,
          1,
          1,
          1,
          1,
          1,
          1,
          1,
          1,
          1,
          2,
          2,
          1,
          1,
          1,
          1,
          1,
          1,
          1,
          1,
          1,
          1,
          3,
          1,
          1,
          1,
          1,
          2,
          1,
          1,
          1,
          1,
          1,
          1,
          1,
          1,
          1,
          1,
          1,
          1,
          1,
          1,
          1,
          1,
          1,
          1,
          1,
          2,
          1,
          1,
          1,
          1,
          1,
          1,
          1,
          1,
          1,
          1,
          1,
          1,
          1,
          1,
          1,
          1,
          1,
          1,
          1,
          1,
          1,
          1,
          1,
          1,
          1,
          1,
          1,
          1,
          1,
          1,
          1,
          1,
          1,
          1,
          1,
          1,
          1,
          1,
          1,
          1,
          1,
          1,
          1,
          1,
          1,
          2,
          1,
          1,
          1,
          1,
          1,
          1,
          1,
          1,
          1,
          1,
          1,
          1,
          1,
          1,
          1,
          1,
          1,
          1,
          1,
          1,
          1,
          1,
          1,
          1,
          1,
          1,
          1,
          1,
          1,
          1,
          1,
          1,
          1,
          1,
          1,
          1,
          1,
          1,
          1,
          1,
          1,
          1,
          1,
          1,
          1,
          1,
          1,
          1,
          1,
          1,
          1,
          1,
          1,
          1,
          1,
          2,
          1,
          1,
          1,
          1,
          1,
          2,
          1,
          1,
          1,
          1,
          1,
          1,
          2,
          2,
          1,
          1,
          1,
          1,
          1,
          1,
          1,
          1,
          1,
          1,
          1,
          1,
          1,
          1,
          2,
          1,
          1,
          2,
          1,
          1,
          1,
          1,
          1,
          1,
          1,
          2,
          1,
          1,
          1,
          1,
          1,
          1,
          1,
          1,
          1,
          1,
          2,
          1,
          1,
          1,
          1,
          1,
          2,
          1,
          1,
          1,
          1,
          1,
          1,
          1,
          1,
          1,
          1,
          1,
          1,
          1,
          1,
          1,
          1,
          1,
          1,
          1,
          2,
          1,
          1,
          1,
          1,
          1,
          1,
          1,
          1,
          1,
          1,
          1,
          1,
          2,
          1,
          1,
          1,
          2,
          1,
          1,
          1,
          1,
          1,
          1,
          1,
          1,
          1,
          1,
          1,
          1,
          1,
          2,
          1,
          2,
          1,
          1,
          1,
          1,
          1,
          2,
          1,
          1,
          1,
          1,
          1,
          1,
          1,
          1,
          1,
          2,
          1,
          1,
          3,
          1,
          1,
          1,
          1,
          1,
          1,
          1,
          1,
          1,
          1,
          2,
          1,
          1,
          1,
          1,
          1,
          1,
          1,
          1,
          1,
          1,
          1,
          1,
          2,
          1,
          1,
          1,
          1,
          1,
          1,
          2,
          1,
          1,
          1,
          1,
          1,
          1,
          1,
          1,
          1,
          1,
          1,
          1,
          1,
          2,
          1,
          1,
          1,
          1,
          1,
          1,
          1,
          2,
          1,
          2,
          1,
          1,
          2,
          1,
          1,
          1,
          1,
          1,
          1,
          2,
          1,
          1,
          1,
          1,
          1,
          1,
          1,
          1,
          1,
          1,
          1,
          1,
          1,
          1,
          1,
          1,
          1,
          1,
          2,
          1,
          1,
          1,
          1,
          1,
          2,
          1,
          1,
          1,
          1,
          1,
          1,
          1,
          1,
          1,
          1,
          1,
          1,
          1,
          2,
          1,
          1,
          1,
          1,
          1,
          1,
          1,
          1,
          1,
          1,
          1,
          1,
          1,
          1,
          1,
          1,
          1,
          1,
          1,
          1,
          1,
          1,
          1,
          1,
          1,
          1,
          1,
          1,
          1,
          1,
          1,
          1,
          1,
          1
         ]
        },
        {
         "name": "Monetary",
         "type": "box",
         "y": [
          974.8800000000001,
          1820.53,
          839.24,
          1117.49,
          1104.57,
          1242.49,
          508.21000000000004,
          510.52,
          2379.45,
          1242.49,
          1033.13,
          945.27,
          1063.6399999999999,
          816.85,
          952.47,
          805.14,
          805.14,
          2379.45,
          1132.47,
          622.27,
          1164.3,
          626.79,
          1148.94,
          1731.53,
          2073.33,
          1117.9099999999999,
          992.33,
          875.74,
          923.05,
          1386.3200000000002,
          292.33000000000004,
          844.6,
          952.15,
          1770.85,
          1164.3,
          971.37,
          907.84,
          988.62,
          882.81,
          1386.3200000000002,
          1163.24,
          859.82,
          960.53,
          504.2,
          1148.94,
          878.7,
          1005.37,
          1292.1100000000001,
          948.98,
          844.6,
          1770.85,
          936.47,
          1117.92,
          1279.44,
          894.1,
          934.91,
          939.84,
          973.99,
          1129.02,
          1621.62,
          504.2,
          1117.49,
          880.99,
          1386.3200000000002,
          963.65,
          963.62,
          1117.9099999999999,
          886.64,
          959.7,
          689.42,
          763.0699999999999,
          681.52,
          827.06,
          816.81,
          796.95,
          136.66,
          764.89,
          899.99,
          825.27,
          855.78,
          714.16,
          444.89,
          921.02,
          736.32,
          905.79,
          896.8,
          720.25,
          839.24,
          1710.17,
          863.15,
          989.23,
          700.24,
          730.93,
          885.55,
          995.2,
          990.71,
          955.89,
          570.27,
          1820.53,
          391.96000000000004,
          1163.24,
          490.78,
          883.95,
          1117.92,
          987.32,
          1129.02,
          827.48,
          490.79,
          507.84,
          699.63,
          846.04,
          970.83,
          943.02,
          896.53,
          748.15,
          906.25,
          619.19,
          882.04,
          692.48,
          508.21000000000004,
          471.39,
          596.28,
          561.42,
          756.22,
          1553.53,
          502.65,
          751.84,
          982.95,
          828.74,
          635.4,
          629.21,
          826.31,
          803.01,
          1662.1,
          774.62,
          952.47,
          683.31,
          750.26,
          865.2,
          2073.33,
          642.13,
          1063.6399999999999,
          921.19,
          622.27,
          615.16,
          807.61,
          626.81,
          1635.23,
          845.33,
          918.72,
          777,
          895.93,
          827.45,
          1104.57,
          522.57,
          933.33,
          883.21,
          532.19,
          544.58,
          749.38,
          647.04,
          999.44,
          777.22,
          847.68,
          786.46,
          700.79,
          1132.47,
          1080.46,
          911.34,
          527.87,
          840.13,
          643.39,
          527.52,
          948.58,
          498.97,
          511.55,
          686.11,
          783.62,
          2073.33,
          750.04,
          546.75,
          769.74,
          260.21,
          1292.1100000000001,
          393.52,
          941.73,
          295.72,
          437.9,
          934.36,
          835.39,
          760.58,
          766.8,
          574.96,
          876.02,
          418.55,
          600.69,
          766.84,
          606.76,
          948.72,
          249.52,
          689.15,
          747.86,
          357.31,
          626.79,
          784.15,
          661.53,
          248.07,
          906.98,
          568.75,
          557,
          598.57,
          314.6,
          707.65,
          306.16,
          883.52,
          992.85,
          720.67,
          916.75,
          535.25,
          803.91,
          984.39,
          802.86,
          929.79,
          648.2,
          737.98,
          325.03,
          480.87,
          439.37,
          950.26,
          939.75,
          998.17,
          816.86,
          704.3,
          290.3,
          622.98,
          359.29,
          872.13,
          836.4,
          642.6,
          393.01,
          309.3,
          892.66,
          616.19,
          825.62,
          499.42,
          309.8,
          365.96,
          935.68,
          785.07,
          510.52,
          180.83,
          98.41,
          147.19,
          935.03,
          490.73,
          999.29,
          610.56,
          887.26,
          690.75,
          504.24,
          232.86,
          964.39,
          745.5,
          238.85,
          324.11,
          123.25,
          641.14,
          593.42,
          76.69,
          949.89,
          487.37,
          131.01,
          111.77,
          256.28,
          628.23,
          248.74,
          982.29,
          219.98,
          352.55,
          864.01,
          886.8,
          837.6,
          808.85,
          117.02,
          218.64,
          802.05,
          148.53,
          466.11,
          743.26,
          116.88,
          758.02,
          608.92,
          450.62,
          331.04,
          924.9,
          750.65,
          221.56,
          149.94,
          73.12,
          764.79,
          860.81,
          245.2,
          896.55,
          540.99,
          774.76,
          763.0699999999999,
          495.19,
          246.42,
          21.24,
          588.33,
          69.31,
          982.95,
          483.75,
          166.79,
          643.74,
          185.69,
          968.76,
          194.34,
          1279.44,
          136.66,
          778.43,
          938.12,
          841.49,
          653.39,
          215.21,
          653.59,
          975.3,
          477.68,
          699.39,
          299.71,
          770.94,
          688.74,
          464.83,
          691.77,
          1553.53,
          252.36,
          702.45,
          1635.23,
          388.39,
          901.05,
          281.99,
          810.26,
          86.43,
          425.46,
          628.78,
          720.25,
          473.71,
          242.28,
          39.19,
          238.71,
          985.03,
          99.48,
          207.67,
          448.68,
          341.31,
          329.1,
          816.85,
          994.59,
          258.83,
          862.88,
          656.25,
          58.09,
          1731.53,
          94.05,
          447.42,
          53.79,
          165.44,
          674.63,
          484.29,
          557.69,
          741.41,
          225.72,
          196.54,
          56.65,
          742.35,
          277.07,
          798.01,
          748.49,
          61.1,
          758.71,
          167.75,
          823.38,
          1386.69,
          592.5,
          731.2,
          951.69,
          787.83,
          358.72,
          247.9,
          86.12,
          599.18,
          420.33,
          274.16,
          285.78,
          841.33,
          1018.1999999999999,
          933.06,
          405.44,
          642.24,
          1710.17,
          290.23,
          772.45,
          622.43,
          957.71,
          98.59,
          111.88,
          589.59,
          179.18,
          90,
          779.9,
          283.34,
          436.15,
          710.6,
          974.8800000000001,
          27.07,
          1662.1,
          793.34,
          383.22,
          29.33,
          790.55,
          763.45,
          714.16,
          400.38,
          584.18,
          367.88,
          350.3,
          887.98,
          704.76,
          76.88,
          983.18,
          100.18,
          391.96000000000004,
          680,
          740.72,
          2379.45,
          513.65,
          124.02,
          667.45,
          900.14,
          759.22,
          630.95,
          989.2,
          458.07,
          136.52,
          871,
          1386.69,
          390.1,
          87.11,
          579.15,
          74.69,
          642.16,
          676.85,
          26.47,
          869.04,
          527.36,
          637.32,
          632.35,
          487.67,
          123.06,
          158.02,
          783.15,
          472.72,
          554.97,
          310.87,
          858.01,
          444.89,
          552.17,
          899.64,
          649.64,
          514.62,
          309.1,
          753.53,
          377.37,
          848.6,
          540.74,
          740.7,
          677.61,
          760.62,
          378,
          1018.1999999999999,
          133.43,
          369.06,
          864.3,
          393.59,
          699.22,
          233.09,
          126.6,
          1234.46,
          964.36,
          1080.46,
          425.86,
          170.88,
          945.27,
          78.73,
          462.97,
          289.48,
          380.17,
          153.16,
          151.82,
          1005.37,
          428.09,
          933.4,
          337.12,
          540.28,
          481.39,
          257.5,
          658.23,
          284.12,
          371.24,
          365.45,
          971.26,
          40.96,
          467.08,
          519.45,
          689.91,
          202.6,
          393.3,
          62.08,
          1234.46,
          768.64,
          513.25,
          221.22,
          113.06,
          306.26,
          1621.62,
          985.51,
          294.76,
          201.56,
          140.26,
          532.88,
          328.99,
          49.09,
          850.9,
          909.08,
          388.65,
          143.9,
          195.28,
          115.35,
          1033.13,
          87.7,
          87.08,
          266.06,
          448.29,
          46.29,
          323.31,
          984.6,
          666.75,
          409.92,
          969.96,
          198.12,
          799.32,
          507.81,
          751.51,
          920.44,
          571.97,
          700.65,
          765.11,
          768.49,
          911.4,
          717.86,
          99.18,
          410.35,
          845.91,
          125.84,
          704.99,
          219.12,
          791.4,
          624.79,
          759.62,
          941.5,
          545.36,
          729.94,
          804.28
         ]
        }
       ],
       "layout": {
        "showlegend": true,
        "template": {
         "data": {
          "bar": [
           {
            "error_x": {
             "color": "#2a3f5f"
            },
            "error_y": {
             "color": "#2a3f5f"
            },
            "marker": {
             "line": {
              "color": "#E5ECF6",
              "width": 0.5
             },
             "pattern": {
              "fillmode": "overlay",
              "size": 10,
              "solidity": 0.2
             }
            },
            "type": "bar"
           }
          ],
          "barpolar": [
           {
            "marker": {
             "line": {
              "color": "#E5ECF6",
              "width": 0.5
             },
             "pattern": {
              "fillmode": "overlay",
              "size": 10,
              "solidity": 0.2
             }
            },
            "type": "barpolar"
           }
          ],
          "carpet": [
           {
            "aaxis": {
             "endlinecolor": "#2a3f5f",
             "gridcolor": "white",
             "linecolor": "white",
             "minorgridcolor": "white",
             "startlinecolor": "#2a3f5f"
            },
            "baxis": {
             "endlinecolor": "#2a3f5f",
             "gridcolor": "white",
             "linecolor": "white",
             "minorgridcolor": "white",
             "startlinecolor": "#2a3f5f"
            },
            "type": "carpet"
           }
          ],
          "choropleth": [
           {
            "colorbar": {
             "outlinewidth": 0,
             "ticks": ""
            },
            "type": "choropleth"
           }
          ],
          "contour": [
           {
            "colorbar": {
             "outlinewidth": 0,
             "ticks": ""
            },
            "colorscale": [
             [
              0,
              "#0d0887"
             ],
             [
              0.1111111111111111,
              "#46039f"
             ],
             [
              0.2222222222222222,
              "#7201a8"
             ],
             [
              0.3333333333333333,
              "#9c179e"
             ],
             [
              0.4444444444444444,
              "#bd3786"
             ],
             [
              0.5555555555555556,
              "#d8576b"
             ],
             [
              0.6666666666666666,
              "#ed7953"
             ],
             [
              0.7777777777777778,
              "#fb9f3a"
             ],
             [
              0.8888888888888888,
              "#fdca26"
             ],
             [
              1,
              "#f0f921"
             ]
            ],
            "type": "contour"
           }
          ],
          "contourcarpet": [
           {
            "colorbar": {
             "outlinewidth": 0,
             "ticks": ""
            },
            "type": "contourcarpet"
           }
          ],
          "heatmap": [
           {
            "colorbar": {
             "outlinewidth": 0,
             "ticks": ""
            },
            "colorscale": [
             [
              0,
              "#0d0887"
             ],
             [
              0.1111111111111111,
              "#46039f"
             ],
             [
              0.2222222222222222,
              "#7201a8"
             ],
             [
              0.3333333333333333,
              "#9c179e"
             ],
             [
              0.4444444444444444,
              "#bd3786"
             ],
             [
              0.5555555555555556,
              "#d8576b"
             ],
             [
              0.6666666666666666,
              "#ed7953"
             ],
             [
              0.7777777777777778,
              "#fb9f3a"
             ],
             [
              0.8888888888888888,
              "#fdca26"
             ],
             [
              1,
              "#f0f921"
             ]
            ],
            "type": "heatmap"
           }
          ],
          "heatmapgl": [
           {
            "colorbar": {
             "outlinewidth": 0,
             "ticks": ""
            },
            "colorscale": [
             [
              0,
              "#0d0887"
             ],
             [
              0.1111111111111111,
              "#46039f"
             ],
             [
              0.2222222222222222,
              "#7201a8"
             ],
             [
              0.3333333333333333,
              "#9c179e"
             ],
             [
              0.4444444444444444,
              "#bd3786"
             ],
             [
              0.5555555555555556,
              "#d8576b"
             ],
             [
              0.6666666666666666,
              "#ed7953"
             ],
             [
              0.7777777777777778,
              "#fb9f3a"
             ],
             [
              0.8888888888888888,
              "#fdca26"
             ],
             [
              1,
              "#f0f921"
             ]
            ],
            "type": "heatmapgl"
           }
          ],
          "histogram": [
           {
            "marker": {
             "pattern": {
              "fillmode": "overlay",
              "size": 10,
              "solidity": 0.2
             }
            },
            "type": "histogram"
           }
          ],
          "histogram2d": [
           {
            "colorbar": {
             "outlinewidth": 0,
             "ticks": ""
            },
            "colorscale": [
             [
              0,
              "#0d0887"
             ],
             [
              0.1111111111111111,
              "#46039f"
             ],
             [
              0.2222222222222222,
              "#7201a8"
             ],
             [
              0.3333333333333333,
              "#9c179e"
             ],
             [
              0.4444444444444444,
              "#bd3786"
             ],
             [
              0.5555555555555556,
              "#d8576b"
             ],
             [
              0.6666666666666666,
              "#ed7953"
             ],
             [
              0.7777777777777778,
              "#fb9f3a"
             ],
             [
              0.8888888888888888,
              "#fdca26"
             ],
             [
              1,
              "#f0f921"
             ]
            ],
            "type": "histogram2d"
           }
          ],
          "histogram2dcontour": [
           {
            "colorbar": {
             "outlinewidth": 0,
             "ticks": ""
            },
            "colorscale": [
             [
              0,
              "#0d0887"
             ],
             [
              0.1111111111111111,
              "#46039f"
             ],
             [
              0.2222222222222222,
              "#7201a8"
             ],
             [
              0.3333333333333333,
              "#9c179e"
             ],
             [
              0.4444444444444444,
              "#bd3786"
             ],
             [
              0.5555555555555556,
              "#d8576b"
             ],
             [
              0.6666666666666666,
              "#ed7953"
             ],
             [
              0.7777777777777778,
              "#fb9f3a"
             ],
             [
              0.8888888888888888,
              "#fdca26"
             ],
             [
              1,
              "#f0f921"
             ]
            ],
            "type": "histogram2dcontour"
           }
          ],
          "mesh3d": [
           {
            "colorbar": {
             "outlinewidth": 0,
             "ticks": ""
            },
            "type": "mesh3d"
           }
          ],
          "parcoords": [
           {
            "line": {
             "colorbar": {
              "outlinewidth": 0,
              "ticks": ""
             }
            },
            "type": "parcoords"
           }
          ],
          "pie": [
           {
            "automargin": true,
            "type": "pie"
           }
          ],
          "scatter": [
           {
            "fillpattern": {
             "fillmode": "overlay",
             "size": 10,
             "solidity": 0.2
            },
            "type": "scatter"
           }
          ],
          "scatter3d": [
           {
            "line": {
             "colorbar": {
              "outlinewidth": 0,
              "ticks": ""
             }
            },
            "marker": {
             "colorbar": {
              "outlinewidth": 0,
              "ticks": ""
             }
            },
            "type": "scatter3d"
           }
          ],
          "scattercarpet": [
           {
            "marker": {
             "colorbar": {
              "outlinewidth": 0,
              "ticks": ""
             }
            },
            "type": "scattercarpet"
           }
          ],
          "scattergeo": [
           {
            "marker": {
             "colorbar": {
              "outlinewidth": 0,
              "ticks": ""
             }
            },
            "type": "scattergeo"
           }
          ],
          "scattergl": [
           {
            "marker": {
             "colorbar": {
              "outlinewidth": 0,
              "ticks": ""
             }
            },
            "type": "scattergl"
           }
          ],
          "scattermapbox": [
           {
            "marker": {
             "colorbar": {
              "outlinewidth": 0,
              "ticks": ""
             }
            },
            "type": "scattermapbox"
           }
          ],
          "scatterpolar": [
           {
            "marker": {
             "colorbar": {
              "outlinewidth": 0,
              "ticks": ""
             }
            },
            "type": "scatterpolar"
           }
          ],
          "scatterpolargl": [
           {
            "marker": {
             "colorbar": {
              "outlinewidth": 0,
              "ticks": ""
             }
            },
            "type": "scatterpolargl"
           }
          ],
          "scatterternary": [
           {
            "marker": {
             "colorbar": {
              "outlinewidth": 0,
              "ticks": ""
             }
            },
            "type": "scatterternary"
           }
          ],
          "surface": [
           {
            "colorbar": {
             "outlinewidth": 0,
             "ticks": ""
            },
            "colorscale": [
             [
              0,
              "#0d0887"
             ],
             [
              0.1111111111111111,
              "#46039f"
             ],
             [
              0.2222222222222222,
              "#7201a8"
             ],
             [
              0.3333333333333333,
              "#9c179e"
             ],
             [
              0.4444444444444444,
              "#bd3786"
             ],
             [
              0.5555555555555556,
              "#d8576b"
             ],
             [
              0.6666666666666666,
              "#ed7953"
             ],
             [
              0.7777777777777778,
              "#fb9f3a"
             ],
             [
              0.8888888888888888,
              "#fdca26"
             ],
             [
              1,
              "#f0f921"
             ]
            ],
            "type": "surface"
           }
          ],
          "table": [
           {
            "cells": {
             "fill": {
              "color": "#EBF0F8"
             },
             "line": {
              "color": "white"
             }
            },
            "header": {
             "fill": {
              "color": "#C8D4E3"
             },
             "line": {
              "color": "white"
             }
            },
            "type": "table"
           }
          ]
         },
         "layout": {
          "annotationdefaults": {
           "arrowcolor": "#2a3f5f",
           "arrowhead": 0,
           "arrowwidth": 1
          },
          "autotypenumbers": "strict",
          "coloraxis": {
           "colorbar": {
            "outlinewidth": 0,
            "ticks": ""
           }
          },
          "colorscale": {
           "diverging": [
            [
             0,
             "#8e0152"
            ],
            [
             0.1,
             "#c51b7d"
            ],
            [
             0.2,
             "#de77ae"
            ],
            [
             0.3,
             "#f1b6da"
            ],
            [
             0.4,
             "#fde0ef"
            ],
            [
             0.5,
             "#f7f7f7"
            ],
            [
             0.6,
             "#e6f5d0"
            ],
            [
             0.7,
             "#b8e186"
            ],
            [
             0.8,
             "#7fbc41"
            ],
            [
             0.9,
             "#4d9221"
            ],
            [
             1,
             "#276419"
            ]
           ],
           "sequential": [
            [
             0,
             "#0d0887"
            ],
            [
             0.1111111111111111,
             "#46039f"
            ],
            [
             0.2222222222222222,
             "#7201a8"
            ],
            [
             0.3333333333333333,
             "#9c179e"
            ],
            [
             0.4444444444444444,
             "#bd3786"
            ],
            [
             0.5555555555555556,
             "#d8576b"
            ],
            [
             0.6666666666666666,
             "#ed7953"
            ],
            [
             0.7777777777777778,
             "#fb9f3a"
            ],
            [
             0.8888888888888888,
             "#fdca26"
            ],
            [
             1,
             "#f0f921"
            ]
           ],
           "sequentialminus": [
            [
             0,
             "#0d0887"
            ],
            [
             0.1111111111111111,
             "#46039f"
            ],
            [
             0.2222222222222222,
             "#7201a8"
            ],
            [
             0.3333333333333333,
             "#9c179e"
            ],
            [
             0.4444444444444444,
             "#bd3786"
            ],
            [
             0.5555555555555556,
             "#d8576b"
            ],
            [
             0.6666666666666666,
             "#ed7953"
            ],
            [
             0.7777777777777778,
             "#fb9f3a"
            ],
            [
             0.8888888888888888,
             "#fdca26"
            ],
            [
             1,
             "#f0f921"
            ]
           ]
          },
          "colorway": [
           "#636efa",
           "#EF553B",
           "#00cc96",
           "#ab63fa",
           "#FFA15A",
           "#19d3f3",
           "#FF6692",
           "#B6E880",
           "#FF97FF",
           "#FECB52"
          ],
          "font": {
           "color": "#2a3f5f"
          },
          "geo": {
           "bgcolor": "white",
           "lakecolor": "white",
           "landcolor": "#E5ECF6",
           "showlakes": true,
           "showland": true,
           "subunitcolor": "white"
          },
          "hoverlabel": {
           "align": "left"
          },
          "hovermode": "closest",
          "mapbox": {
           "style": "light"
          },
          "paper_bgcolor": "white",
          "plot_bgcolor": "#E5ECF6",
          "polar": {
           "angularaxis": {
            "gridcolor": "white",
            "linecolor": "white",
            "ticks": ""
           },
           "bgcolor": "#E5ECF6",
           "radialaxis": {
            "gridcolor": "white",
            "linecolor": "white",
            "ticks": ""
           }
          },
          "scene": {
           "xaxis": {
            "backgroundcolor": "#E5ECF6",
            "gridcolor": "white",
            "gridwidth": 2,
            "linecolor": "white",
            "showbackground": true,
            "ticks": "",
            "zerolinecolor": "white"
           },
           "yaxis": {
            "backgroundcolor": "#E5ECF6",
            "gridcolor": "white",
            "gridwidth": 2,
            "linecolor": "white",
            "showbackground": true,
            "ticks": "",
            "zerolinecolor": "white"
           },
           "zaxis": {
            "backgroundcolor": "#E5ECF6",
            "gridcolor": "white",
            "gridwidth": 2,
            "linecolor": "white",
            "showbackground": true,
            "ticks": "",
            "zerolinecolor": "white"
           }
          },
          "shapedefaults": {
           "line": {
            "color": "#2a3f5f"
           }
          },
          "ternary": {
           "aaxis": {
            "gridcolor": "white",
            "linecolor": "white",
            "ticks": ""
           },
           "baxis": {
            "gridcolor": "white",
            "linecolor": "white",
            "ticks": ""
           },
           "bgcolor": "#E5ECF6",
           "caxis": {
            "gridcolor": "white",
            "linecolor": "white",
            "ticks": ""
           }
          },
          "title": {
           "x": 0.05
          },
          "xaxis": {
           "automargin": true,
           "gridcolor": "white",
           "linecolor": "white",
           "ticks": "",
           "title": {
            "standoff": 15
           },
           "zerolinecolor": "white",
           "zerolinewidth": 2
          },
          "yaxis": {
           "automargin": true,
           "gridcolor": "white",
           "linecolor": "white",
           "ticks": "",
           "title": {
            "standoff": 15
           },
           "zerolinecolor": "white",
           "zerolinewidth": 2
          }
         }
        },
        "title": {
         "text": "Distribution of RFM Values within Champions Segment"
        },
        "yaxis": {
         "title": {
          "text": "RFM Value"
         }
        }
       }
      }
     },
     "metadata": {},
     "output_type": "display_data"
    }
   ],
   "source": [
    "import plotly.graph_objects as go\n",
    "\n",
    "# Filter the data to include only the customers in the Champions segment\n",
    "champions_segment = data[data['RFM Customer Segments'] == 'Champions']\n",
    "\n",
    "# Create a box plot of RFM Score based on Recency and Frequency\n",
    "fig = go.Figure()\n",
    "fig.add_trace(go.Box(y=champions_segment['Recency'], name='Recency'))\n",
    "fig.add_trace(go.Box(y=champions_segment['Frequency'], name='Frequency'))\n",
    "fig.add_trace(go.Box(y=champions_segment['Monetary'], name='Monetary'))\n",
    "\n",
    "fig.update_layout(title='Distribution of RFM Values within Champions Segment',\n",
    "                  yaxis_title='RFM Value',\n",
    "                  showlegend=True)\n",
    "\n",
    "fig.show()"
   ]
  },
  {
   "cell_type": "code",
   "execution_count": null,
   "metadata": {},
   "outputs": [],
   "source": []
  }
 ],
 "metadata": {
  "kernelspec": {
   "display_name": "Python 3",
   "language": "python",
   "name": "python3"
  },
  "language_info": {
   "codemirror_mode": {
    "name": "ipython",
    "version": 3
   },
   "file_extension": ".py",
   "mimetype": "text/x-python",
   "name": "python",
   "nbconvert_exporter": "python",
   "pygments_lexer": "ipython3",
   "version": "3.11.4"
  },
  "orig_nbformat": 4
 },
 "nbformat": 4,
 "nbformat_minor": 2
}
